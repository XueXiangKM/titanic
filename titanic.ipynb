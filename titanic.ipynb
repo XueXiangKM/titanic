{
 "cells": [
  {
   "cell_type": "markdown",
   "metadata": {},
   "source": [
    "## 对数据问题的思考\n",
    "\n",
    "> **1:** 对于不同年龄阶段的人，生还率是否存在差异？\n",
    "\n",
    "> **2:** 男性跟女性之间的生还率是否存在差异？\n",
    "\n",
    "> **3:** 购买不同等级票价的人，生还率是否存在差异？\n",
    "\n",
    "> **4:** 从不同港口登船的人，生还率是否存在差异？\n",
    "\n",
    "> **5:** 和亲属一起登船的人，生还率与平均生还率是否存在差异？\n",
    "\n",
    "> **6:** 购买不同等级仓位的乘客的年龄分布情况如何？"
   ]
  },
  {
   "cell_type": "markdown",
   "metadata": {},
   "source": [
    "## 读取csv数据"
   ]
  },
  {
   "cell_type": "code",
   "execution_count": 1,
   "metadata": {},
   "outputs": [
    {
     "data": {
      "text/html": [
       "<div>\n",
       "<style>\n",
       "    .dataframe thead tr:only-child th {\n",
       "        text-align: right;\n",
       "    }\n",
       "\n",
       "    .dataframe thead th {\n",
       "        text-align: left;\n",
       "    }\n",
       "\n",
       "    .dataframe tbody tr th {\n",
       "        vertical-align: top;\n",
       "    }\n",
       "</style>\n",
       "<table border=\"1\" class=\"dataframe\">\n",
       "  <thead>\n",
       "    <tr style=\"text-align: right;\">\n",
       "      <th></th>\n",
       "      <th>PassengerId</th>\n",
       "      <th>Survived</th>\n",
       "      <th>Pclass</th>\n",
       "      <th>Name</th>\n",
       "      <th>Sex</th>\n",
       "      <th>Age</th>\n",
       "      <th>SibSp</th>\n",
       "      <th>Parch</th>\n",
       "      <th>Ticket</th>\n",
       "      <th>Fare</th>\n",
       "      <th>Cabin</th>\n",
       "      <th>Embarked</th>\n",
       "    </tr>\n",
       "  </thead>\n",
       "  <tbody>\n",
       "    <tr>\n",
       "      <th>0</th>\n",
       "      <td>1</td>\n",
       "      <td>0</td>\n",
       "      <td>3</td>\n",
       "      <td>Braund, Mr. Owen Harris</td>\n",
       "      <td>male</td>\n",
       "      <td>22.0</td>\n",
       "      <td>1</td>\n",
       "      <td>0</td>\n",
       "      <td>A/5 21171</td>\n",
       "      <td>7.2500</td>\n",
       "      <td>NaN</td>\n",
       "      <td>S</td>\n",
       "    </tr>\n",
       "    <tr>\n",
       "      <th>1</th>\n",
       "      <td>2</td>\n",
       "      <td>1</td>\n",
       "      <td>1</td>\n",
       "      <td>Cumings, Mrs. John Bradley (Florence Briggs Th...</td>\n",
       "      <td>female</td>\n",
       "      <td>38.0</td>\n",
       "      <td>1</td>\n",
       "      <td>0</td>\n",
       "      <td>PC 17599</td>\n",
       "      <td>71.2833</td>\n",
       "      <td>C85</td>\n",
       "      <td>C</td>\n",
       "    </tr>\n",
       "    <tr>\n",
       "      <th>2</th>\n",
       "      <td>3</td>\n",
       "      <td>1</td>\n",
       "      <td>3</td>\n",
       "      <td>Heikkinen, Miss. Laina</td>\n",
       "      <td>female</td>\n",
       "      <td>26.0</td>\n",
       "      <td>0</td>\n",
       "      <td>0</td>\n",
       "      <td>STON/O2. 3101282</td>\n",
       "      <td>7.9250</td>\n",
       "      <td>NaN</td>\n",
       "      <td>S</td>\n",
       "    </tr>\n",
       "    <tr>\n",
       "      <th>3</th>\n",
       "      <td>4</td>\n",
       "      <td>1</td>\n",
       "      <td>1</td>\n",
       "      <td>Futrelle, Mrs. Jacques Heath (Lily May Peel)</td>\n",
       "      <td>female</td>\n",
       "      <td>35.0</td>\n",
       "      <td>1</td>\n",
       "      <td>0</td>\n",
       "      <td>113803</td>\n",
       "      <td>53.1000</td>\n",
       "      <td>C123</td>\n",
       "      <td>S</td>\n",
       "    </tr>\n",
       "    <tr>\n",
       "      <th>4</th>\n",
       "      <td>5</td>\n",
       "      <td>0</td>\n",
       "      <td>3</td>\n",
       "      <td>Allen, Mr. William Henry</td>\n",
       "      <td>male</td>\n",
       "      <td>35.0</td>\n",
       "      <td>0</td>\n",
       "      <td>0</td>\n",
       "      <td>373450</td>\n",
       "      <td>8.0500</td>\n",
       "      <td>NaN</td>\n",
       "      <td>S</td>\n",
       "    </tr>\n",
       "  </tbody>\n",
       "</table>\n",
       "</div>"
      ],
      "text/plain": [
       "   PassengerId  Survived  Pclass  \\\n",
       "0            1         0       3   \n",
       "1            2         1       1   \n",
       "2            3         1       3   \n",
       "3            4         1       1   \n",
       "4            5         0       3   \n",
       "\n",
       "                                                Name     Sex   Age  SibSp  \\\n",
       "0                            Braund, Mr. Owen Harris    male  22.0      1   \n",
       "1  Cumings, Mrs. John Bradley (Florence Briggs Th...  female  38.0      1   \n",
       "2                             Heikkinen, Miss. Laina  female  26.0      0   \n",
       "3       Futrelle, Mrs. Jacques Heath (Lily May Peel)  female  35.0      1   \n",
       "4                           Allen, Mr. William Henry    male  35.0      0   \n",
       "\n",
       "   Parch            Ticket     Fare Cabin Embarked  \n",
       "0      0         A/5 21171   7.2500   NaN        S  \n",
       "1      0          PC 17599  71.2833   C85        C  \n",
       "2      0  STON/O2. 3101282   7.9250   NaN        S  \n",
       "3      0            113803  53.1000  C123        S  \n",
       "4      0            373450   8.0500   NaN        S  "
      ]
     },
     "execution_count": 1,
     "metadata": {},
     "output_type": "execute_result"
    }
   ],
   "source": [
    "import matplotlib.pyplot as plt\n",
    "import numpy as np\n",
    "import pandas as pd\n",
    "import seaborn as sns\n",
    "\n",
    "titanic_data = pd.read_csv('titanic-data.csv')\n",
    "titanic_data.head()"
   ]
  },
  {
   "cell_type": "markdown",
   "metadata": {},
   "source": [
    "## 对数据进行初步分析和处理\n",
    "**1:** 查看总人数，以及男性和女性分别的有多少人"
   ]
  },
  {
   "cell_type": "code",
   "execution_count": 2,
   "metadata": {},
   "outputs": [
    {
     "name": "stdout",
     "output_type": "stream",
     "text": [
      "总人数为891人\n",
      "男性人数为577人\n",
      "女性人数为314人\n"
     ]
    }
   ],
   "source": [
    "male_data = titanic_data[titanic_data['Sex'] == 'male'] \n",
    "female_data = titanic_data[titanic_data['Sex'] == 'female'] #根据性别分组，将男性数据赋值给male_data，女性数据赋值给female_data\n",
    "print '总人数为{}人'.format(len(titanic_data))\n",
    "print '男性人数为{}人'.format(len(male_data))\n",
    "print '女性人数为{}人'.format(len(female_data))"
   ]
  },
  {
   "cell_type": "markdown",
   "metadata": {},
   "source": [
    "**2：**查看年龄分布情况"
   ]
  },
  {
   "cell_type": "code",
   "execution_count": 3,
   "metadata": {},
   "outputs": [
    {
     "data": {
      "text/plain": [
       "count    714.000000\n",
       "mean      29.699118\n",
       "std       14.526497\n",
       "min        0.420000\n",
       "25%       20.125000\n",
       "50%       28.000000\n",
       "75%       38.000000\n",
       "max       80.000000\n",
       "Name: Age, dtype: float64"
      ]
     },
     "execution_count": 3,
     "metadata": {},
     "output_type": "execute_result"
    }
   ],
   "source": [
    "age_series = titanic_data['Age'].dropna()\n",
    "age_data = titanic_data.loc[list(age_series.index.values)]\n",
    "age_data['Age'].describe() #丢弃年龄为缺失的数据，得到年龄数据组age_data，并查看年龄的分布情况"
   ]
  },
  {
   "cell_type": "code",
   "execution_count": 4,
   "metadata": {},
   "outputs": [
    {
     "data": {
      "text/plain": [
       "(array([ 40.,  14.,  15.,  31.,  79.,  98.,  85.,  84.,  73.,  45.,  35.,\n",
       "         35.,  29.,  16.,  13.,  11.,   4.,   5.,   1.,   1.]),\n",
       " array([  0.42 ,   4.399,   8.378,  12.357,  16.336,  20.315,  24.294,\n",
       "         28.273,  32.252,  36.231,  40.21 ,  44.189,  48.168,  52.147,\n",
       "         56.126,  60.105,  64.084,  68.063,  72.042,  76.021,  80.   ]),\n",
       " <a list of 20 Patch objects>)"
      ]
     },
     "execution_count": 4,
     "metadata": {},
     "output_type": "execute_result"
    },
    {
     "data": {
      "image/png": "[encoded data removed]",
      "text/plain": [
       "<matplotlib.figure.Figure at 0xbee5e10>"
      ]
     },
     "metadata": {},
     "output_type": "display_data"
    }
   ],
   "source": [
    "%matplotlib inline\n",
    "plt.hist(age_data['Age'], bins = 20)"
   ]
  },
  {
   "cell_type": "markdown",
   "metadata": {},
   "source": [
    "**3：**查看平均存活率"
   ]
  },
  {
   "cell_type": "code",
   "execution_count": 5,
   "metadata": {},
   "outputs": [
    {
     "name": "stdout",
     "output_type": "stream",
     "text": [
      "泰坦尼克号上乘客的平均存活率为38.38%\n"
     ]
    }
   ],
   "source": [
    "sur_rate_average = len(titanic_data[titanic_data['Survived'] == 1]) / float(len(titanic_data))\n",
    "print '泰坦尼克号上乘客的平均存活率为{:.2%}'.format(sur_rate_average)"
   ]
  },
  {
   "cell_type": "markdown",
   "metadata": {},
   "source": [
    "## 对数据问题的一些分析（对所提出的问题进行分析）"
   ]
  },
  {
   "cell_type": "markdown",
   "metadata": {},
   "source": [
    "**1：**查看性别因素对存活率的影响"
   ]
  },
  {
   "cell_type": "code",
   "execution_count": 54,
   "metadata": {},
   "outputs": [
    {
     "name": "stdout",
     "output_type": "stream",
     "text": [
      "泰坦尼克上男性乘客共577名，存活率为18.89%\n"
     ]
    }
   ],
   "source": [
    "sur_male_rate = male_data['Survived'].mean() #计算男性存活率\n",
    "print '泰坦尼克上男性乘客共{}名，存活率为{:.2%}'.format(len(male_data), sur_male_rate)"
   ]
  },
  {
   "cell_type": "code",
   "execution_count": 55,
   "metadata": {},
   "outputs": [
    {
     "name": "stdout",
     "output_type": "stream",
     "text": [
      "泰坦尼克上女性乘客共314名，存活率为74.20%\n"
     ]
    }
   ],
   "source": [
    "sur_female_rate = female_data['Survived'].mean() #计算女性存活率\n",
    "print '泰坦尼克上女性乘客共{}名，存活率为{:.2%}'.format(len(female_data), sur_female_rate)"
   ]
  },
  {
   "cell_type": "code",
   "execution_count": 60,
   "metadata": {},
   "outputs": [
    {
     "data": {
      "image/png": "[encoded data removed]",
      "text/plain": [
       "<matplotlib.figure.Figure at 0x11bfc940>"
      ]
     },
     "metadata": {},
     "output_type": "display_data"
    }
   ],
   "source": [
    "%matplotlib inline\n",
    "fig = plt.figure(figsize = (12,  5))\n",
    "ax1 = fig.add_subplot(1, 2, 1)\n",
    "ax2 = fig.add_subplot(1, 2, 2)\n",
    "sex_vs_count = titanic_data.groupby(['Sex', 'Survived']).count()['PassengerId']\n",
    "sex_vs_count.unstack().plot(kind = 'bar', stacked = True, ax  = ax1)\n",
    "ax1.set_title('Sex VS Count')\n",
    "ax1.set_ylabel('Count')\n",
    "sex_vs_rate = titanic_data.groupby('Sex').mean()['Survived']\n",
    "sex_vs_rate.plot(kind = 'bar', ax = ax2)\n",
    "ax2.set_title('Sex VS Rate')\n",
    "ax2.set_ylabel('Rate')\n",
    "plt.show()"
   ]
  },
  {
   "cell_type": "markdown",
   "metadata": {},
   "source": [
    "**小结：**泰坦尼克号上女性乘客的存活率远高于男性，且显著高于平均存活率。判断在逃生时，侧重于让女性优先逃生。"
   ]
  },
  {
   "cell_type": "markdown",
   "metadata": {},
   "source": [
    "**2：**查看年龄对存活率的影响"
   ]
  },
  {
   "cell_type": "markdown",
   "metadata": {},
   "source": [
    "（1）查看幸存乘客的年龄分布情况"
   ]
  },
  {
   "cell_type": "code",
   "execution_count": 8,
   "metadata": {},
   "outputs": [
    {
     "data": {
      "text/plain": [
       "count    290.000000\n",
       "mean      28.343690\n",
       "std       14.950952\n",
       "min        0.420000\n",
       "25%       19.000000\n",
       "50%       28.000000\n",
       "75%       36.000000\n",
       "max       80.000000\n",
       "Name: Age, dtype: float64"
      ]
     },
     "execution_count": 8,
     "metadata": {},
     "output_type": "execute_result"
    }
   ],
   "source": [
    "sur_age_data = age_data[age_data['Survived'] == 1] #获取登记有年龄的幸存者的数据\n",
    "sur_age_data['Age'].describe()"
   ]
  },
  {
   "cell_type": "code",
   "execution_count": 9,
   "metadata": {},
   "outputs": [
    {
     "data": {
      "text/plain": [
       "(array([ 27.,   9.,   4.,  15.,  27.,  36.,  30.,  35.,  35.,  17.,  12.,\n",
       "         12.,  14.,   7.,   5.,   4.,   0.,   0.,   0.,   1.]),\n",
       " array([  0.42 ,   4.399,   8.378,  12.357,  16.336,  20.315,  24.294,\n",
       "         28.273,  32.252,  36.231,  40.21 ,  44.189,  48.168,  52.147,\n",
       "         56.126,  60.105,  64.084,  68.063,  72.042,  76.021,  80.   ]),\n",
       " <a list of 20 Patch objects>)"
      ]
     },
     "execution_count": 9,
     "metadata": {},
     "output_type": "execute_result"
    },
    {
     "data": {
      "image/png": "[encoded data removed]",
      "text/plain": [
       "<matplotlib.figure.Figure at 0xbfbfbe0>"
      ]
     },
     "metadata": {},
     "output_type": "display_data"
    }
   ],
   "source": [
    "%matplotlib inline\n",
    "plt.hist(sur_age_data['Age'], bins = 20)"
   ]
  },
  {
   "cell_type": "markdown",
   "metadata": {},
   "source": [
    "**小结：**幸存乘客的年龄分布情况与全部乘客的年龄分布情况近似，从直方图上看，幸存乘客中儿童的分布数量略多于全部乘客中儿童的分布数量"
   ]
  },
  {
   "cell_type": "markdown",
   "metadata": {},
   "source": [
    "（2）查看不同年龄阶段的乘客的存活率情况"
   ]
  },
  {
   "cell_type": "code",
   "execution_count": 10,
   "metadata": {},
   "outputs": [
    {
     "data": {
      "text/plain": [
       "AgeGroup\n",
       "(0, 10]     0.593750\n",
       "(10, 20]    0.382609\n",
       "(20, 30]    0.365217\n",
       "(30, 40]    0.445161\n",
       "(40, 50]    0.383721\n",
       "(50, 60]    0.404762\n",
       "(60, 70]    0.235294\n",
       "(70, 80]    0.200000\n",
       "dtype: float64"
      ]
     },
     "execution_count": 10,
     "metadata": {},
     "output_type": "execute_result"
    }
   ],
   "source": [
    "list_age = []\n",
    "age = 0\n",
    "for i in range(9):\n",
    "    list_age.append(age)\n",
    "    age = age + 10\n",
    "age_series_group = pd.cut(age_data['Age'], bins = np.array(list_age)) #将乘客的年龄按阶段进行分组，每十岁分为一个组(0-80岁，共8组)\n",
    "age_data['AgeGroup'] = age_series_group #将年龄的分组信息加入登记有年龄的乘客数据框中\n",
    "age_group = age_data.groupby('AgeGroup') #按照年龄阶段将乘客数据分组\n",
    "surrate_age_group = age_group.sum()['Survived'] / age_group.size()\n",
    "surrate_age_group"
   ]
  },
  {
   "cell_type": "code",
   "execution_count": 18,
   "metadata": {},
   "outputs": [
    {
     "data": {
      "text/plain": [
       "<matplotlib.axes._subplots.AxesSubplot at 0xe351208>"
      ]
     },
     "execution_count": 18,
     "metadata": {},
     "output_type": "execute_result"
    },
    {
     "data": {
      "image/png": "[encoded data removed]",
      "text/plain": [
       "<matplotlib.figure.Figure at 0xd6f43c8>"
      ]
     },
     "metadata": {},
     "output_type": "display_data"
    }
   ],
   "source": [
    "%matplotlib inline\n",
    "surrate_age_group.plot(kind = 'bar')"
   ]
  },
  {
   "cell_type": "markdown",
   "metadata": {},
   "source": [
    "**小结：**将乘客按年龄分为8组（每十岁分为一个组），可以看出，存活率近似于随着年龄组的增大而减小，其中10岁以下乘客的存活率远高于平均存活率，判断在逃生时，侧重于让儿童优先逃生。"
   ]
  },
  {
   "cell_type": "markdown",
   "metadata": {},
   "source": [
    "**3：**查看不同等级舱位对存活率的影响"
   ]
  },
  {
   "cell_type": "code",
   "execution_count": 28,
   "metadata": {},
   "outputs": [
    {
     "name": "stdout",
     "output_type": "stream",
     "text": [
      "购买1等舱位的乘客共216人，存活率为62.96%\n",
      "购买2等舱位的乘客共184人，存活率为47.28%\n",
      "购买3等舱位的乘客共491人，存活率为24.24%\n"
     ]
    }
   ],
   "source": [
    "pclass_data = titanic_data.groupby('Pclass') #根据Pclass的值按仓位等级将数据分组,并分别计算出1、2、3等仓乘客的存活率\n",
    "for i in range(3):\n",
    "    print '购买{}等舱位的乘客共{}人，存活率为{:.2%}'.format(i+1, pclass_data['PassengerId'].count()[i+1], pclass_data['Survived'].mean()[i+1])"
   ]
  },
  {
   "cell_type": "code",
   "execution_count": 63,
   "metadata": {},
   "outputs": [
    {
     "data": {
      "image/png": "[encoded data removed]",
      "text/plain": [
       "<matplotlib.figure.Figure at 0x11c78eb8>"
      ]
     },
     "metadata": {},
     "output_type": "display_data"
    }
   ],
   "source": [
    "%matplotlib inline\n",
    "fig = plt.figure(figsize = (12,  5))\n",
    "ax1 = fig.add_subplot(1, 2, 1)\n",
    "ax2 = fig.add_subplot(1, 2, 2)\n",
    "em_vs_count = titanic_data.groupby(['Pclass', 'Survived']).count()['PassengerId']\n",
    "em_vs_count.unstack().plot(kind = 'bar', stacked = True, ax  = ax1)\n",
    "ax1.set_title('Pclass VS Count')\n",
    "ax1.set_ylabel('Count')\n",
    "sex_vs_rate = titanic_data.groupby('Pclass').mean()['Survived']\n",
    "sex_vs_rate.plot(kind = 'bar', ax = ax2)\n",
    "ax2.set_title('Pclass VS Rate')\n",
    "ax2.set_ylabel('Rate')\n",
    "plt.show()"
   ]
  },
  {
   "cell_type": "markdown",
   "metadata": {},
   "source": [
    "**小结：**可以看出，存活率随着仓位等级的升高而增加。因此，判断在逃生时，可能高等级仓位的乘客优先逃生，或者高等级仓位距离逃生出口较近，而低等级仓位距离逃生出口较远。"
   ]
  },
  {
   "cell_type": "markdown",
   "metadata": {},
   "source": [
    "**4：**查看不同登船港口对存活率的影响"
   ]
  },
  {
   "cell_type": "code",
   "execution_count": 30,
   "metadata": {},
   "outputs": [
    {
     "name": "stdout",
     "output_type": "stream",
     "text": [
      "在Southampton港口登船的乘客共644人，存活率为33.70%\n",
      "在Queenstown港口登船的乘客共77人，存活率为38.96%\n",
      "在Cherbourg港口登船的乘客共168人，存活率为55.36%\n"
     ]
    }
   ],
   "source": [
    "embarked_data = titanic_data.groupby('Embarked') #根据Embarked的值按登船港口将数据分组\n",
    "embarked_S_sur_rate = embarked_data['Survived'].mean()['S']\n",
    "embarked_Q_sur_rate = embarked_data['Survived'].mean()['Q']\n",
    "embarked_C_sur_rate = embarked_data['Survived'].mean()['C'] #分别计算出从三个港口登船的乘客的存活率\n",
    "embarked_rate_list = [embarked_S_sur_rate, embarked_Q_sur_rate, embarked_C_sur_rate]\n",
    "embarked_num_list = [embarked_data['PassengerId'].count()['S'], embarked_data['PassengerId'].count()['Q'],embarked_data['PassengerId'].count()['C']]\n",
    "s = ['Southampton', 'Queenstown', 'Cherbourg']\n",
    "for i in range(3):\n",
    "    print '在{}港口登船的乘客共{}人，存活率为{:.2%}'.format(s[i], embarked_num_list[i], embarked_rate_list[i])"
   ]
  },
  {
   "cell_type": "code",
   "execution_count": 62,
   "metadata": {},
   "outputs": [
    {
     "data": {
      "image/png": "[encoded data removed]",
      "text/plain": [
       "<matplotlib.figure.Figure at 0x1244edd8>"
      ]
     },
     "metadata": {},
     "output_type": "display_data"
    }
   ],
   "source": [
    "%matplotlib inline\n",
    "fig = plt.figure(figsize = (12,  5))\n",
    "ax1 = fig.add_subplot(1, 2, 1)\n",
    "ax2 = fig.add_subplot(1, 2, 2)\n",
    "em_vs_count = titanic_data.groupby(['Embarked', 'Survived']).count()['PassengerId']\n",
    "em_vs_count.unstack().plot(kind = 'bar', stacked = True, ax  = ax1)\n",
    "ax1.set_title('Embarked VS Count')\n",
    "ax1.set_ylabel('Count')\n",
    "sex_vs_rate = titanic_data.groupby('Embarked').mean()['Survived']\n",
    "sex_vs_rate.plot(kind = 'bar', ax = ax2)\n",
    "ax2.set_title('Embarked VS Rate')\n",
    "ax2.set_ylabel('Rate')\n",
    "plt.show()"
   ]
  },
  {
   "cell_type": "markdown",
   "metadata": {},
   "source": [
    "**小结：**在Cherbourg港口登船的乘客的存活率显著高于其余两个港口登船乘客的存活率，且高于平均存活率，判断Cherbourg港口登船的乘客所在仓位可能距离逃生出口较近"
   ]
  },
  {
   "cell_type": "markdown",
   "metadata": {},
   "source": [
    "**5：**查看和亲属一起登船的人的存活率情况"
   ]
  },
  {
   "cell_type": "code",
   "execution_count": 14,
   "metadata": {},
   "outputs": [
    {
     "name": "stdout",
     "output_type": "stream",
     "text": [
      "和亲属一起登船的乘客共354人，存活率为50.56%\n"
     ]
    }
   ],
   "source": [
    "family_data = titanic_data[(titanic_data['SibSp'] != 0) | (titanic_data['Parch'] != 0)] #筛选出和亲属一起登船的人的数据\n",
    "print '和亲属一起登船的乘客共{}人，存活率为{:.2%}'.format(len(family_data) ,float(family_data['Survived'].sum()) / len(family_data))"
   ]
  },
  {
   "cell_type": "markdown",
   "metadata": {},
   "source": [
    "**小结：**和亲属一起登船的乘客共142人，其存活率显著高于平均存活率，判断在逃生时，可能优先让与亲属一起登船的乘客逃生"
   ]
  },
  {
   "cell_type": "markdown",
   "metadata": {},
   "source": [
    "**6：**分析购买不同等级舱位的人的年龄情况"
   ]
  },
  {
   "cell_type": "code",
   "execution_count": 15,
   "metadata": {},
   "outputs": [
    {
     "data": {
      "text/html": [
       "<div>\n",
       "<style>\n",
       "    .dataframe thead tr:only-child th {\n",
       "        text-align: right;\n",
       "    }\n",
       "\n",
       "    .dataframe thead th {\n",
       "        text-align: left;\n",
       "    }\n",
       "\n",
       "    .dataframe tbody tr th {\n",
       "        vertical-align: top;\n",
       "    }\n",
       "</style>\n",
       "<table border=\"1\" class=\"dataframe\">\n",
       "  <thead>\n",
       "    <tr style=\"text-align: right;\">\n",
       "      <th></th>\n",
       "      <th>count</th>\n",
       "      <th>mean</th>\n",
       "      <th>std</th>\n",
       "      <th>min</th>\n",
       "      <th>25%</th>\n",
       "      <th>50%</th>\n",
       "      <th>75%</th>\n",
       "      <th>max</th>\n",
       "    </tr>\n",
       "    <tr>\n",
       "      <th>Pclass</th>\n",
       "      <th></th>\n",
       "      <th></th>\n",
       "      <th></th>\n",
       "      <th></th>\n",
       "      <th></th>\n",
       "      <th></th>\n",
       "      <th></th>\n",
       "      <th></th>\n",
       "    </tr>\n",
       "  </thead>\n",
       "  <tbody>\n",
       "    <tr>\n",
       "      <th>1</th>\n",
       "      <td>186.0</td>\n",
       "      <td>38.233441</td>\n",
       "      <td>14.802856</td>\n",
       "      <td>0.92</td>\n",
       "      <td>27.0</td>\n",
       "      <td>37.0</td>\n",
       "      <td>49.0</td>\n",
       "      <td>80.0</td>\n",
       "    </tr>\n",
       "    <tr>\n",
       "      <th>2</th>\n",
       "      <td>173.0</td>\n",
       "      <td>29.877630</td>\n",
       "      <td>14.001077</td>\n",
       "      <td>0.67</td>\n",
       "      <td>23.0</td>\n",
       "      <td>29.0</td>\n",
       "      <td>36.0</td>\n",
       "      <td>70.0</td>\n",
       "    </tr>\n",
       "    <tr>\n",
       "      <th>3</th>\n",
       "      <td>355.0</td>\n",
       "      <td>25.140620</td>\n",
       "      <td>12.495398</td>\n",
       "      <td>0.42</td>\n",
       "      <td>18.0</td>\n",
       "      <td>24.0</td>\n",
       "      <td>32.0</td>\n",
       "      <td>74.0</td>\n",
       "    </tr>\n",
       "  </tbody>\n",
       "</table>\n",
       "</div>"
      ],
      "text/plain": [
       "        count       mean        std   min   25%   50%   75%   max\n",
       "Pclass                                                           \n",
       "1       186.0  38.233441  14.802856  0.92  27.0  37.0  49.0  80.0\n",
       "2       173.0  29.877630  14.001077  0.67  23.0  29.0  36.0  70.0\n",
       "3       355.0  25.140620  12.495398  0.42  18.0  24.0  32.0  74.0"
      ]
     },
     "execution_count": 15,
     "metadata": {},
     "output_type": "execute_result"
    }
   ],
   "source": [
    "age_pclass_data = age_data.groupby('Pclass') #将具有登记有年龄的乘客数据的根据舱位分组\n",
    "age_pclass_data['Age'].describe()"
   ]
  },
  {
   "cell_type": "code",
   "execution_count": 67,
   "metadata": {},
   "outputs": [
    {
     "data": {
      "image/png": "[encoded data removed]",
      "text/plain": [
       "<matplotlib.figure.Figure at 0x12c7eef0>"
      ]
     },
     "metadata": {},
     "output_type": "display_data"
    }
   ],
   "source": [
    "%matplotlib inline\n",
    "age_data.boxplot(by = 'Pclass', column = 'Age') #分别画出购买1、2、3等舱位乘客的年龄分布情况的箱型图\n",
    "plt.ylabel('Age')\n",
    "plt.show()"
   ]
  },
  {
   "cell_type": "markdown",
   "metadata": {},
   "source": [
    "**小结：**可以看出，购买一等舱位乘客的年龄均值为38岁，年龄分布主要在二十岁至六十岁之间；购买二等舱位的乘客的年龄均值为29岁，年龄分布主要在20岁至四十岁之间；购买三等舱位乘客的年龄均值为25岁，年龄分布集中在二十岁至三十岁左右。该分布情况符合社会一般规律，即，随着人群年龄的增加，其财富水平也越高（财富积累越多，购买力越强）"
   ]
  },
  {
   "cell_type": "markdown",
   "metadata": {},
   "source": [
    "## 结论\n",
    "根据对所提出问题进行的数据分析，可以得出以下结论：\n",
    "在关于影响存活率的因素中，性别对存活率有较大影响，远远高于男性，判断在逃生时，优先让女性逃生。在不同舱位以及不同港口登船的乘客中，存活率随着舱位等级的升高而增加。因此，判断在逃生时，可能高等级舱位的乘客优先逃生，或者高等级舱位距离逃生出口较近，而低等级舱位距离逃生出口较远，而在Cherbourg港口登船的乘客的存活率高于其余两个港口登船乘客的存活率，且高于平均存活率，判断Cherbourg港口登船的乘客所在仓位可能距离逃生出口较近。\n",
    "对于年龄对存活率的影响，可以看出10岁以下乘客的年龄存活率显著高于其他年龄阶段乘客的存活率，判断在逃生时，侧重于让儿童优先逃生。但是需要说明的是，在所获取的数据中，只有714名乘客登记有年龄信息，有177名没有年龄信息，因此该项数据的准确性存在一定限制。\n",
    "此外，根据购买不同舱位的乘客的年龄分布可以看出，购买高等级的舱位的乘客年龄集中阶段大于购买低等级舱位的乘客年龄集中阶段，可以看出随着人群年龄的增加，其财富水平也越高（财富积累越多，购买力越强）。同样地，该项数据的准确性受到部分缺失年龄信息的乘客数据的限制。"
   ]
  }
 ],
 "metadata": {
  "kernelspec": {
   "display_name": "Python 2",
   "language": "python",
   "name": "python2"
  },
  "language_info": {
   "codemirror_mode": {
    "name": "ipython",
    "version": 2
   },
   "file_extension": ".py",
   "mimetype": "text/x-python",
   "name": "python",
   "nbconvert_exporter": "python",
   "pygments_lexer": "ipython2",
   "version": "2.7.13"
  }
 },
 "nbformat": 4,
 "nbformat_minor": 2
}
